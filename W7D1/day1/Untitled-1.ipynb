{
 "cells": [
  {
   "cell_type": "code",
   "execution_count": 17,
   "metadata": {},
   "outputs": [
    {
     "name": "stdout",
     "output_type": "stream",
     "text": [
      "[[8 8 8 8 8 8 8 8]\n",
      " [8 8 8 8 8 8 8 8]\n",
      " [8 8 8 8 8 8 8 8]\n",
      " [8 8 8 8 8 8 8 8]\n",
      " [8 8 8 8 8 8 8 8]\n",
      " [8 8 8 8 8 8 8 8]\n",
      " [8 8 8 8 8 8 8 8]\n",
      " [8 8 8 8 8 8 8 8]]\n",
      "[[0.27738029 0.06127068 0.91319405 0.05157337 0.50252037]\n",
      " [0.10958951 0.69089464 0.6879904  0.66527936 0.9223167 ]\n",
      " [0.80505127 0.83367615 0.46318172 0.22793225 0.33241102]\n",
      " [0.02684769 0.94351672 0.96137117 0.40177232 0.11178022]\n",
      " [0.46481613 0.47932404 0.81987581 0.48678858 0.87737667]]\n",
      "35.808341744578954\n",
      "[ 2 65 32 23]\n",
      "First array:\n",
      "[[0.49456122 0.96743464 0.07258826]\n",
      " [0.55912805 0.32740212 0.54648172]\n",
      " [0.70301708 0.38813653 0.02890801]\n",
      " [0.66519553 0.48994321 0.05765831]\n",
      " [0.88619059 0.39828435 0.24604462]]\n",
      "Second array:\n",
      "[[0.52227656 0.8708689 ]\n",
      " [0.76498207 0.94643551]\n",
      " [0.80958527 0.92278625]]\n",
      "Dot product of two arrays:\n",
      "[[1.05713427 1.41329592]\n",
      " [0.98489977 1.30107804]\n",
      " [0.68749033 1.00625782]\n",
      " [0.76889312 1.09620405]\n",
      " [0.96671106 1.37575287]]\n",
      "[32. 52.  0.]\n",
      "[ 5  8 65]\n"
     ]
    }
   ],
   "source": [
    "import numpy as np\n",
    "\n",
    "p= np.tile(8,(8,8))\n",
    "print (p)\n",
    "matrix = np.random.random((5,5))\n",
    "print(matrix)\n",
    "minima = np.min(matrix)\n",
    "maxima = np.max(matrix)\n",
    "div = maxima/minima\n",
    "print (div)\n",
    "arr = np.array([2,65,32,23], dtype=np.int16)\n",
    "print (arr )\n",
    "#  Create an array of 2x4 with dtype numpy.int16, print the dtype of the array (RGBA)\n",
    "x = np.random.random((5,3))\n",
    "print(\"First array:\")\n",
    "print(x)\n",
    "y = np.random.random((3,2))\n",
    "print(\"Second array:\")\n",
    "print(y)\n",
    "z = np.dot(x, y)\n",
    "print(\"Dot product of two arrays:\")\n",
    "print(z)\n",
    "# 26.\n",
    "# first print = [1,2,3,4]\n",
    "# second print = error\n",
    "\n",
    "# 27. Z**Z = legal\n",
    "# Z <- Z = illegal statement\n",
    "#  = legal\n",
    "# 28.\n",
    "\n",
    "# np.array(0) / np.array(0) = 0\n",
    "# np.array(0) // np.array(0) error\n",
    "\n",
    "def round_array(x,y):\n",
    "    return np.round(x,y)\n",
    "\n",
    "test = np.array([32.11, 51.5, 0.112])\n",
    "print(round_array(test,0))\n",
    "\n",
    "res2= np.array([1,5,8,34,65])\n",
    "res3 = np.array([ 5,8,45,65,3])\n",
    "res4 = np.intersect1d(res2,res3)\n",
    "print(res4)"
   ]
  }
 ],
 "metadata": {
  "kernelspec": {
   "display_name": "Python 3.10.5 64-bit",
   "language": "python",
   "name": "python3"
  },
  "language_info": {
   "codemirror_mode": {
    "name": "ipython",
    "version": 3
   },
   "file_extension": ".py",
   "mimetype": "text/x-python",
   "name": "python",
   "nbconvert_exporter": "python",
   "pygments_lexer": "ipython3",
   "version": "3.10.5"
  },
  "orig_nbformat": 4,
  "vscode": {
   "interpreter": {
    "hash": "aee8b7b246df8f9039afb4144a1f6fd8d2ca17a180786b69acc140d282b71a49"
   }
  }
 },
 "nbformat": 4,
 "nbformat_minor": 2
}
