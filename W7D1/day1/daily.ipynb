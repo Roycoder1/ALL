{
 "cells": [
  {
   "cell_type": "markdown",
   "metadata": {},
   "source": []
  },
  {
   "cell_type": "code",
   "execution_count": 27,
   "metadata": {},
   "outputs": [
    {
     "name": "stdout",
     "output_type": "stream",
     "text": [
      "(array([[25, 28, 53, 67, 59,  5, 51, 47, 14, 28],\n",
      "       [69, 52,  1, 24, 17, 64, 74, 83, 57, 58],\n",
      "       [73, 39, 80, 50, 80, 74, 16, 21, 90, 33]]), array([[51, 19, 38,  1, 81, 44, 23, 89, 62, 62],\n",
      "       [19, 41, 59, 55, 17, 20, 55, 59, 76, 97],\n",
      "       [63,  6, 15, 13, 32, 71, 74, 25, 23, 24],\n",
      "       [19, 33, 65, 98, 98, 19,  7, 59, 61, 87]]))\n",
      "[73 39 80 50 80 74 16 21 90 33]\n",
      "[63  6 15 13 32 71 74 25 23 24]\n",
      "     0\n",
      "63  73\n",
      "6   39\n",
      "15  80\n",
      "13  50\n",
      "32  80\n",
      "71  74\n",
      "74  16\n",
      "25  21\n",
      "23  90\n",
      "24  33\n",
      "[[25 28 53 67 59  5 51 47 14  7]\n",
      " [69 52  1 24 17 64 74 83 57  7]\n",
      " [73 39 80 50 80 74 16 21 90  7]]\n",
      "[[51 19 38  1 81 44 23 89 62  7]\n",
      " [19 41 59 55 17 20 55 59 76  7]\n",
      " [63  6 15 13 32 71 74 25 23  7]\n",
      " [19 33 65 98 98 19  7 59 61  7]]\n",
      "[[ 25  28  53  67  59   5  51  47  14   7]\n",
      " [ 69  52   1  24  17  64  74  83  57   7]\n",
      " [ 94  80  54  91  76  69 125 130  71  14]]\n",
      "[[ 51  19  38   1  81  44  23  89  62   7]\n",
      " [ 19  41  59  55  17  20  55  59  76   7]\n",
      " [ 63   6  15  13  32  71  74  25  23   7]\n",
      " [133  66 112  69 130 135 152 173 161  21]]\n"
     ]
    }
   ],
   "source": [
    "import numpy as np\n",
    "import pandas as pd\n",
    "\n",
    "array = [[3.,4.,12.],\n",
    "[45.,27.,33.]]\n",
    "\n",
    "\n",
    "\n",
    "arr2D = np.random.randint(1,100,30).reshape((3,10))\n",
    "# print (arr2D)\n",
    "second = np.random.randint(1,100,40).reshape((4,10))\n",
    "# print (second)\n",
    "finalArr = arr2D,second\n",
    "print (finalArr)\n",
    "finalArr2=finalArr[0][2]\n",
    "secondcolumn= finalArr[1][2]\n",
    "print(finalArr2)\n",
    "print(secondcolumn)\n",
    "pf = pd.DataFrame(arr2D[2], index=second[2])\n",
    "print(pf)\n",
    "arr2D[0][9] = 7\n",
    "arr2D[1][9] = 7\n",
    "arr2D[2][9] = 7\n",
    "second[0][9] = 7\n",
    "second[1][9] = 7\n",
    "second[2][9] = 7\n",
    "second[3][9] = 7\n",
    "print(arr2D)\n",
    "print(second)\n",
    "\n",
    "arr2D[2]=arr2D[0]+arr2D[1]\n",
    "print (arr2D)\n",
    "second[3]= second[0]+second[1]+second[2]\n",
    "print (second)\n",
    "\n"
   ]
  }
 ],
 "metadata": {
  "kernelspec": {
   "display_name": "Python 3.10.5 64-bit",
   "language": "python",
   "name": "python3"
  },
  "language_info": {
   "codemirror_mode": {
    "name": "ipython",
    "version": 3
   },
   "file_extension": ".py",
   "mimetype": "text/x-python",
   "name": "python",
   "nbconvert_exporter": "python",
   "pygments_lexer": "ipython3",
   "version": "3.10.5"
  },
  "orig_nbformat": 4,
  "vscode": {
   "interpreter": {
    "hash": "aee8b7b246df8f9039afb4144a1f6fd8d2ca17a180786b69acc140d282b71a49"
   }
  }
 },
 "nbformat": 4,
 "nbformat_minor": 2
}
